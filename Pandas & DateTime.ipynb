{
 "cells": [
  {
   "cell_type": "code",
   "execution_count": 26,
   "metadata": {},
   "outputs": [
    {
     "name": "stdout",
     "output_type": "stream",
     "text": [
      "35000\n",
      "35000\n"
     ]
    }
   ],
   "source": [
    "import pandas as pd\n",
    "t = pd.DataFrame([['17/08/2019', 45000],\n",
    "    ['18/08/2019', 58000],\n",
    "    ['19/08/2019', 35000],\n",
    "    ['20/08/2019', 39500]])\n",
    "s = [['17/08/2019', 45000],\n",
    "     ['18/08/2019', 58000],\n",
    "     ['19/08/2019', 35000],\n",
    "     ['20/08/2019', 39500]]\n",
    "print(t[1][2])\n",
    "print(s[2][1])"
   ]
  },
  {
   "cell_type": "code",
   "execution_count": 9,
   "metadata": {},
   "outputs": [
    {
     "name": "stdout",
     "output_type": "stream",
     "text": [
      "14069\n"
     ]
    }
   ],
   "source": [
    "from datetime import date\n",
    "d = \"13/2/1981\"\n",
    "d,m,y = d.split('/')\n",
    "a = date(int(y), int(m), int(d))\n",
    "t = date.today()\n",
    "r = t - a\n",
    "print(r.days)"
   ]
  },
  {
   "cell_type": "code",
   "execution_count": null,
   "metadata": {},
   "outputs": [],
   "source": []
  }
 ],
 "metadata": {
  "kernelspec": {
   "display_name": "Python 3",
   "language": "python",
   "name": "python3"
  },
  "language_info": {
   "codemirror_mode": {
    "name": "ipython",
    "version": 3
   },
   "file_extension": ".py",
   "mimetype": "text/x-python",
   "name": "python",
   "nbconvert_exporter": "python",
   "pygments_lexer": "ipython3",
   "version": "3.7.3"
  }
 },
 "nbformat": 4,
 "nbformat_minor": 2
}
