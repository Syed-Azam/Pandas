{
 "cells": [
  {
   "cell_type": "code",
   "execution_count": 29,
   "metadata": {},
   "outputs": [
    {
     "name": "stdout",
     "output_type": "stream",
     "text": [
      "                 Country  MAG\n",
      "S                            \n",
      "37371              Chile  8.2\n",
      "50562             Alaska  7.9\n",
      "36918              Chile  7.7\n",
      "33808    Solomon Islands  7.6\n",
      "31496   Papua New Guinea  7.5\n",
      "33537    Solomon Islands  7.4\n",
      "95913        El Salvador  7.3\n",
      "31850             Mexico  7.2\n",
      "34318   Papua New Guinea  7.1\n",
      "106285         Indonesia  7.1\n",
      "111052              Fiji  7.1\n",
      "97602               None  7.0\n",
      "47934                NaN  6.9\n",
      "78063               None  6.9\n",
      "50609        New Zealand  6.9\n",
      "\n",
      "                    Coun\n",
      "0                Alabama\n",
      "1                 Alaska\n",
      "2                Arizona\n",
      "3               Arkansas\n",
      "4             California\n",
      "5               Colorado\n",
      "6            Connecticut\n",
      "7               Delaware\n",
      "8   District of Columbia\n",
      "9                Florida\n",
      "10               Georgia\n",
      "11                Hawaii\n",
      "12                 Idaho\n",
      "13              Illinois\n",
      "14               Indiana\n",
      "15                  Iowa\n",
      "16                Kansas\n",
      "17            Kenn ir kv\n",
      "\n"
     ]
    },
    {
     "data": {
      "text/plain": [
       "S\n",
       "37371     False\n",
       "50562      True\n",
       "36918     False\n",
       "33808     False\n",
       "31496     False\n",
       "33537     False\n",
       "95913     False\n",
       "31850     False\n",
       "34318     False\n",
       "106285    False\n",
       "111052    False\n",
       "97602     False\n",
       "47934     False\n",
       "78063     False\n",
       "50609     False\n",
       "Name: Country, dtype: bool"
      ]
     },
     "execution_count": 29,
     "metadata": {},
     "output_type": "execute_result"
    }
   ],
   "source": [
    "import pandas as pd\n",
    "df1 = pd.read_excel(\"df1.xlsx\", index_col='S')\n",
    "df2 = pd.read_excel(\"df2.xlsx\", header=None)\n",
    "df2.columns = ['Coun']\n",
    "print(df1)\n",
    "print()\n",
    "print(df2)\n",
    "print()\n",
    "df1.Country.isin(df2.Coun)\n"
   ]
  },
  {
   "cell_type": "code",
   "execution_count": null,
   "metadata": {},
   "outputs": [],
   "source": []
  }
 ],
 "metadata": {
  "kernelspec": {
   "display_name": "Python 3",
   "language": "python",
   "name": "python3"
  },
  "language_info": {
   "codemirror_mode": {
    "name": "ipython",
    "version": 3
   },
   "file_extension": ".py",
   "mimetype": "text/x-python",
   "name": "python",
   "nbconvert_exporter": "python",
   "pygments_lexer": "ipython3",
   "version": "3.7.4"
  }
 },
 "nbformat": 4,
 "nbformat_minor": 2
}
